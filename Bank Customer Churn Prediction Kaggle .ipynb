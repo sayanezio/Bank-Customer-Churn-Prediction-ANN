{
 "cells": [
  {
   "cell_type": "code",
   "execution_count": 1,
   "id": "95bf8666",
   "metadata": {},
   "outputs": [
    {
     "name": "stdout",
     "output_type": "stream",
     "text": [
      "WARNING:tensorflow:From C:\\Users\\sayanezio\\anaconda3\\lib\\site-packages\\keras\\src\\losses.py:2976: The name tf.losses.sparse_softmax_cross_entropy is deprecated. Please use tf.compat.v1.losses.sparse_softmax_cross_entropy instead.\n",
      "\n"
     ]
    }
   ],
   "source": [
    "# Importing necessary libraries\n",
    "\n",
    "import os \n",
    "import numpy as np\n",
    "import pandas as pd\n",
    "from sklearn.preprocessing import StandardScaler\n",
    "from sklearn.preprocessing import OneHotEncoder\n",
    "from sklearn.preprocessing import LabelEncoder\n",
    "import tensorflow as tf"
   ]
  },
  {
   "cell_type": "code",
   "execution_count": 2,
   "id": "6844e59b",
   "metadata": {},
   "outputs": [],
   "source": [
    "df = pd.read_csv(r'C:\\Users\\sayanezio\\Desktop\\Kaggle Bank Churn\\archive_2\\Churn_Modelling.csv')"
   ]
  },
  {
   "cell_type": "code",
   "execution_count": 3,
   "id": "b0eb3548",
   "metadata": {},
   "outputs": [
    {
     "data": {
      "text/html": [
       "<div>\n",
       "<style scoped>\n",
       "    .dataframe tbody tr th:only-of-type {\n",
       "        vertical-align: middle;\n",
       "    }\n",
       "\n",
       "    .dataframe tbody tr th {\n",
       "        vertical-align: top;\n",
       "    }\n",
       "\n",
       "    .dataframe thead th {\n",
       "        text-align: right;\n",
       "    }\n",
       "</style>\n",
       "<table border=\"1\" class=\"dataframe\">\n",
       "  <thead>\n",
       "    <tr style=\"text-align: right;\">\n",
       "      <th></th>\n",
       "      <th>RowNumber</th>\n",
       "      <th>CustomerId</th>\n",
       "      <th>Surname</th>\n",
       "      <th>CreditScore</th>\n",
       "      <th>Geography</th>\n",
       "      <th>Gender</th>\n",
       "      <th>Age</th>\n",
       "      <th>Tenure</th>\n",
       "      <th>Balance</th>\n",
       "      <th>NumOfProducts</th>\n",
       "      <th>HasCrCard</th>\n",
       "      <th>IsActiveMember</th>\n",
       "      <th>EstimatedSalary</th>\n",
       "      <th>Exited</th>\n",
       "    </tr>\n",
       "  </thead>\n",
       "  <tbody>\n",
       "    <tr>\n",
       "      <th>0</th>\n",
       "      <td>1</td>\n",
       "      <td>15634602</td>\n",
       "      <td>Hargrave</td>\n",
       "      <td>619</td>\n",
       "      <td>France</td>\n",
       "      <td>Female</td>\n",
       "      <td>42</td>\n",
       "      <td>2</td>\n",
       "      <td>0.00</td>\n",
       "      <td>1</td>\n",
       "      <td>1</td>\n",
       "      <td>1</td>\n",
       "      <td>101348.88</td>\n",
       "      <td>1</td>\n",
       "    </tr>\n",
       "    <tr>\n",
       "      <th>1</th>\n",
       "      <td>2</td>\n",
       "      <td>15647311</td>\n",
       "      <td>Hill</td>\n",
       "      <td>608</td>\n",
       "      <td>Spain</td>\n",
       "      <td>Female</td>\n",
       "      <td>41</td>\n",
       "      <td>1</td>\n",
       "      <td>83807.86</td>\n",
       "      <td>1</td>\n",
       "      <td>0</td>\n",
       "      <td>1</td>\n",
       "      <td>112542.58</td>\n",
       "      <td>0</td>\n",
       "    </tr>\n",
       "    <tr>\n",
       "      <th>2</th>\n",
       "      <td>3</td>\n",
       "      <td>15619304</td>\n",
       "      <td>Onio</td>\n",
       "      <td>502</td>\n",
       "      <td>France</td>\n",
       "      <td>Female</td>\n",
       "      <td>42</td>\n",
       "      <td>8</td>\n",
       "      <td>159660.80</td>\n",
       "      <td>3</td>\n",
       "      <td>1</td>\n",
       "      <td>0</td>\n",
       "      <td>113931.57</td>\n",
       "      <td>1</td>\n",
       "    </tr>\n",
       "    <tr>\n",
       "      <th>3</th>\n",
       "      <td>4</td>\n",
       "      <td>15701354</td>\n",
       "      <td>Boni</td>\n",
       "      <td>699</td>\n",
       "      <td>France</td>\n",
       "      <td>Female</td>\n",
       "      <td>39</td>\n",
       "      <td>1</td>\n",
       "      <td>0.00</td>\n",
       "      <td>2</td>\n",
       "      <td>0</td>\n",
       "      <td>0</td>\n",
       "      <td>93826.63</td>\n",
       "      <td>0</td>\n",
       "    </tr>\n",
       "    <tr>\n",
       "      <th>4</th>\n",
       "      <td>5</td>\n",
       "      <td>15737888</td>\n",
       "      <td>Mitchell</td>\n",
       "      <td>850</td>\n",
       "      <td>Spain</td>\n",
       "      <td>Female</td>\n",
       "      <td>43</td>\n",
       "      <td>2</td>\n",
       "      <td>125510.82</td>\n",
       "      <td>1</td>\n",
       "      <td>1</td>\n",
       "      <td>1</td>\n",
       "      <td>79084.10</td>\n",
       "      <td>0</td>\n",
       "    </tr>\n",
       "  </tbody>\n",
       "</table>\n",
       "</div>"
      ],
      "text/plain": [
       "   RowNumber  CustomerId   Surname  CreditScore Geography  Gender  Age  \\\n",
       "0          1    15634602  Hargrave          619    France  Female   42   \n",
       "1          2    15647311      Hill          608     Spain  Female   41   \n",
       "2          3    15619304      Onio          502    France  Female   42   \n",
       "3          4    15701354      Boni          699    France  Female   39   \n",
       "4          5    15737888  Mitchell          850     Spain  Female   43   \n",
       "\n",
       "   Tenure    Balance  NumOfProducts  HasCrCard  IsActiveMember  \\\n",
       "0       2       0.00              1          1               1   \n",
       "1       1   83807.86              1          0               1   \n",
       "2       8  159660.80              3          1               0   \n",
       "3       1       0.00              2          0               0   \n",
       "4       2  125510.82              1          1               1   \n",
       "\n",
       "   EstimatedSalary  Exited  \n",
       "0        101348.88       1  \n",
       "1        112542.58       0  \n",
       "2        113931.57       1  \n",
       "3         93826.63       0  \n",
       "4         79084.10       0  "
      ]
     },
     "execution_count": 3,
     "metadata": {},
     "output_type": "execute_result"
    }
   ],
   "source": [
    "df.head()"
   ]
  },
  {
   "cell_type": "code",
   "execution_count": 5,
   "id": "48d28bba",
   "metadata": {},
   "outputs": [
    {
     "data": {
      "text/plain": [
       "RowNumber          0\n",
       "CustomerId         0\n",
       "Surname            0\n",
       "CreditScore        0\n",
       "Geography          0\n",
       "Gender             0\n",
       "Age                0\n",
       "Tenure             0\n",
       "Balance            0\n",
       "NumOfProducts      0\n",
       "HasCrCard          0\n",
       "IsActiveMember     0\n",
       "EstimatedSalary    0\n",
       "Exited             0\n",
       "dtype: int64"
      ]
     },
     "execution_count": 5,
     "metadata": {},
     "output_type": "execute_result"
    }
   ],
   "source": [
    "df.isnull().sum()"
   ]
  },
  {
   "cell_type": "code",
   "execution_count": 6,
   "id": "443f5796",
   "metadata": {},
   "outputs": [
    {
     "data": {
      "text/plain": [
       "RowNumber            int64\n",
       "CustomerId           int64\n",
       "Surname             object\n",
       "CreditScore          int64\n",
       "Geography           object\n",
       "Gender              object\n",
       "Age                  int64\n",
       "Tenure               int64\n",
       "Balance            float64\n",
       "NumOfProducts        int64\n",
       "HasCrCard            int64\n",
       "IsActiveMember       int64\n",
       "EstimatedSalary    float64\n",
       "Exited               int64\n",
       "dtype: object"
      ]
     },
     "execution_count": 6,
     "metadata": {},
     "output_type": "execute_result"
    }
   ],
   "source": [
    "df.dtypes"
   ]
  },
  {
   "cell_type": "markdown",
   "id": "d81696ee",
   "metadata": {},
   "source": [
    "# Data Preprocessing"
   ]
  },
  {
   "cell_type": "code",
   "execution_count": 14,
   "id": "eaf736f3",
   "metadata": {},
   "outputs": [],
   "source": [
    "df = df.drop(['RowNumber','CustomerId','Surname'], axis = 'columns')"
   ]
  },
  {
   "cell_type": "code",
   "execution_count": 23,
   "id": "eb0e4579",
   "metadata": {},
   "outputs": [
    {
     "data": {
      "text/html": [
       "<div>\n",
       "<style scoped>\n",
       "    .dataframe tbody tr th:only-of-type {\n",
       "        vertical-align: middle;\n",
       "    }\n",
       "\n",
       "    .dataframe tbody tr th {\n",
       "        vertical-align: top;\n",
       "    }\n",
       "\n",
       "    .dataframe thead th {\n",
       "        text-align: right;\n",
       "    }\n",
       "</style>\n",
       "<table border=\"1\" class=\"dataframe\">\n",
       "  <thead>\n",
       "    <tr style=\"text-align: right;\">\n",
       "      <th></th>\n",
       "      <th>CreditScore</th>\n",
       "      <th>Geography</th>\n",
       "      <th>Gender</th>\n",
       "      <th>Age</th>\n",
       "      <th>Tenure</th>\n",
       "      <th>Balance</th>\n",
       "      <th>NumOfProducts</th>\n",
       "      <th>HasCrCard</th>\n",
       "      <th>IsActiveMember</th>\n",
       "      <th>EstimatedSalary</th>\n",
       "      <th>Exited</th>\n",
       "    </tr>\n",
       "  </thead>\n",
       "  <tbody>\n",
       "    <tr>\n",
       "      <th>0</th>\n",
       "      <td>619</td>\n",
       "      <td>France</td>\n",
       "      <td>Female</td>\n",
       "      <td>42</td>\n",
       "      <td>2</td>\n",
       "      <td>0.00</td>\n",
       "      <td>1</td>\n",
       "      <td>1</td>\n",
       "      <td>1</td>\n",
       "      <td>101348.88</td>\n",
       "      <td>1</td>\n",
       "    </tr>\n",
       "    <tr>\n",
       "      <th>1</th>\n",
       "      <td>608</td>\n",
       "      <td>Spain</td>\n",
       "      <td>Female</td>\n",
       "      <td>41</td>\n",
       "      <td>1</td>\n",
       "      <td>83807.86</td>\n",
       "      <td>1</td>\n",
       "      <td>0</td>\n",
       "      <td>1</td>\n",
       "      <td>112542.58</td>\n",
       "      <td>0</td>\n",
       "    </tr>\n",
       "    <tr>\n",
       "      <th>2</th>\n",
       "      <td>502</td>\n",
       "      <td>France</td>\n",
       "      <td>Female</td>\n",
       "      <td>42</td>\n",
       "      <td>8</td>\n",
       "      <td>159660.80</td>\n",
       "      <td>3</td>\n",
       "      <td>1</td>\n",
       "      <td>0</td>\n",
       "      <td>113931.57</td>\n",
       "      <td>1</td>\n",
       "    </tr>\n",
       "    <tr>\n",
       "      <th>3</th>\n",
       "      <td>699</td>\n",
       "      <td>France</td>\n",
       "      <td>Female</td>\n",
       "      <td>39</td>\n",
       "      <td>1</td>\n",
       "      <td>0.00</td>\n",
       "      <td>2</td>\n",
       "      <td>0</td>\n",
       "      <td>0</td>\n",
       "      <td>93826.63</td>\n",
       "      <td>0</td>\n",
       "    </tr>\n",
       "    <tr>\n",
       "      <th>4</th>\n",
       "      <td>850</td>\n",
       "      <td>Spain</td>\n",
       "      <td>Female</td>\n",
       "      <td>43</td>\n",
       "      <td>2</td>\n",
       "      <td>125510.82</td>\n",
       "      <td>1</td>\n",
       "      <td>1</td>\n",
       "      <td>1</td>\n",
       "      <td>79084.10</td>\n",
       "      <td>0</td>\n",
       "    </tr>\n",
       "  </tbody>\n",
       "</table>\n",
       "</div>"
      ],
      "text/plain": [
       "   CreditScore Geography  Gender  Age  Tenure    Balance  NumOfProducts  \\\n",
       "0          619    France  Female   42       2       0.00              1   \n",
       "1          608     Spain  Female   41       1   83807.86              1   \n",
       "2          502    France  Female   42       8  159660.80              3   \n",
       "3          699    France  Female   39       1       0.00              2   \n",
       "4          850     Spain  Female   43       2  125510.82              1   \n",
       "\n",
       "   HasCrCard  IsActiveMember  EstimatedSalary  Exited  \n",
       "0          1               1        101348.88       1  \n",
       "1          0               1        112542.58       0  \n",
       "2          1               0        113931.57       1  \n",
       "3          0               0         93826.63       0  \n",
       "4          1               1         79084.10       0  "
      ]
     },
     "execution_count": 23,
     "metadata": {},
     "output_type": "execute_result"
    }
   ],
   "source": [
    "df.head()"
   ]
  },
  {
   "cell_type": "code",
   "execution_count": 18,
   "id": "2f35623e",
   "metadata": {},
   "outputs": [],
   "source": [
    "# Defining the dependent and independent variable"
   ]
  },
  {
   "cell_type": "code",
   "execution_count": 24,
   "id": "9f5352a7",
   "metadata": {
    "scrolled": true
   },
   "outputs": [],
   "source": [
    "x = df.drop(['Exited'], axis = 'columns').values"
   ]
  },
  {
   "cell_type": "code",
   "execution_count": 26,
   "id": "675a1412",
   "metadata": {},
   "outputs": [],
   "source": [
    "y = df['Exited'].values"
   ]
  },
  {
   "cell_type": "code",
   "execution_count": 25,
   "id": "1c9c3726",
   "metadata": {
    "scrolled": true
   },
   "outputs": [
    {
     "data": {
      "text/plain": [
       "array([[619, 'France', 'Female', ..., 1, 1, 101348.88],\n",
       "       [608, 'Spain', 'Female', ..., 0, 1, 112542.58],\n",
       "       [502, 'France', 'Female', ..., 1, 0, 113931.57],\n",
       "       ...,\n",
       "       [709, 'France', 'Female', ..., 0, 1, 42085.58],\n",
       "       [772, 'Germany', 'Male', ..., 1, 0, 92888.52],\n",
       "       [792, 'France', 'Female', ..., 1, 0, 38190.78]], dtype=object)"
      ]
     },
     "execution_count": 25,
     "metadata": {},
     "output_type": "execute_result"
    }
   ],
   "source": [
    "x"
   ]
  },
  {
   "cell_type": "code",
   "execution_count": 27,
   "id": "f0c129d6",
   "metadata": {},
   "outputs": [
    {
     "data": {
      "text/plain": [
       "array([1, 0, 1, ..., 1, 1, 0], dtype=int64)"
      ]
     },
     "execution_count": 27,
     "metadata": {},
     "output_type": "execute_result"
    }
   ],
   "source": [
    "y"
   ]
  },
  {
   "cell_type": "markdown",
   "id": "ae19d1d4",
   "metadata": {},
   "source": [
    "# Converting the categorical features"
   ]
  },
  {
   "cell_type": "code",
   "execution_count": 17,
   "id": "0bf64f3d",
   "metadata": {},
   "outputs": [],
   "source": [
    "le = LabelEncoder()"
   ]
  },
  {
   "cell_type": "code",
   "execution_count": 30,
   "id": "689ff747",
   "metadata": {},
   "outputs": [],
   "source": [
    "x[:,2] = le.fit_transform(x[:,2])"
   ]
  },
  {
   "cell_type": "code",
   "execution_count": 31,
   "id": "8db8e739",
   "metadata": {},
   "outputs": [
    {
     "data": {
      "text/plain": [
       "array([[619, 'France', 0, ..., 1, 1, 101348.88],\n",
       "       [608, 'Spain', 0, ..., 0, 1, 112542.58],\n",
       "       [502, 'France', 0, ..., 1, 0, 113931.57],\n",
       "       ...,\n",
       "       [709, 'France', 0, ..., 0, 1, 42085.58],\n",
       "       [772, 'Germany', 1, ..., 1, 0, 92888.52],\n",
       "       [792, 'France', 0, ..., 1, 0, 38190.78]], dtype=object)"
      ]
     },
     "execution_count": 31,
     "metadata": {},
     "output_type": "execute_result"
    }
   ],
   "source": [
    "x"
   ]
  },
  {
   "cell_type": "code",
   "execution_count": 33,
   "id": "e4ab8b1b",
   "metadata": {},
   "outputs": [],
   "source": [
    "from sklearn.compose import ColumnTransformer\n",
    "ct = ColumnTransformer(transformers=[('encoder', OneHotEncoder(), [1])], remainder='passthrough')"
   ]
  },
  {
   "cell_type": "code",
   "execution_count": 34,
   "id": "bcaac602",
   "metadata": {},
   "outputs": [],
   "source": [
    "x = ct.fit_transform(x)"
   ]
  },
  {
   "cell_type": "code",
   "execution_count": 38,
   "id": "c13ba14a",
   "metadata": {
    "scrolled": true
   },
   "outputs": [
    {
     "data": {
      "text/plain": [
       "array([[1.0, 0.0, 0.0, ..., 1, 1, 101348.88],\n",
       "       [0.0, 0.0, 1.0, ..., 0, 1, 112542.58],\n",
       "       [1.0, 0.0, 0.0, ..., 1, 0, 113931.57],\n",
       "       ...,\n",
       "       [1.0, 0.0, 0.0, ..., 0, 1, 42085.58],\n",
       "       [0.0, 1.0, 0.0, ..., 1, 0, 92888.52],\n",
       "       [1.0, 0.0, 0.0, ..., 1, 0, 38190.78]], dtype=object)"
      ]
     },
     "execution_count": 38,
     "metadata": {},
     "output_type": "execute_result"
    }
   ],
   "source": [
    "x"
   ]
  },
  {
   "cell_type": "code",
   "execution_count": 46,
   "id": "9c22b602",
   "metadata": {},
   "outputs": [
    {
     "data": {
      "text/plain": [
       "array([1.0, 0.0, 0.0, 684, 1, 27, 2, 134603.88, 1, 1, 1, 71725.73],\n",
       "      dtype=object)"
      ]
     },
     "execution_count": 46,
     "metadata": {},
     "output_type": "execute_result"
    }
   ],
   "source": [
    "x[9]"
   ]
  },
  {
   "cell_type": "markdown",
   "id": "404509c4",
   "metadata": {},
   "source": [
    "# Spliting the data into train and test"
   ]
  },
  {
   "cell_type": "code",
   "execution_count": 39,
   "id": "cd9a6fb7",
   "metadata": {},
   "outputs": [],
   "source": [
    "from sklearn.model_selection import train_test_split"
   ]
  },
  {
   "cell_type": "code",
   "execution_count": 47,
   "id": "2ba6b87e",
   "metadata": {},
   "outputs": [],
   "source": [
    "x_train, x_test, y_train, y_test = train_test_split(x, y, test_size= 0.2, random_state=0)"
   ]
  },
  {
   "cell_type": "markdown",
   "id": "fc5b23b9",
   "metadata": {},
   "source": [
    "# Feature Scaling "
   ]
  },
  {
   "cell_type": "code",
   "execution_count": 48,
   "id": "4b238dd5",
   "metadata": {},
   "outputs": [],
   "source": [
    "sc = StandardScaler()"
   ]
  },
  {
   "cell_type": "code",
   "execution_count": 49,
   "id": "c0f0d674",
   "metadata": {},
   "outputs": [],
   "source": [
    "x_train = sc.fit_transform(x_train)\n",
    "x_test = sc.fit_transform(x_test)"
   ]
  },
  {
   "cell_type": "code",
   "execution_count": 53,
   "id": "50a87f60",
   "metadata": {},
   "outputs": [
    {
     "data": {
      "text/plain": [
       "(8000, 12)"
      ]
     },
     "execution_count": 53,
     "metadata": {},
     "output_type": "execute_result"
    }
   ],
   "source": [
    "x_train.shape"
   ]
  },
  {
   "cell_type": "code",
   "execution_count": 51,
   "id": "bbcaf436",
   "metadata": {},
   "outputs": [
    {
     "data": {
      "text/plain": [
       "array([[-0.95692675,  1.62776996, -0.57427105, ...,  0.66011376,\n",
       "         0.97628121,  1.62185911],\n",
       "       [ 1.04501206, -0.61433742, -0.57427105, ...,  0.66011376,\n",
       "        -1.02429504,  0.504204  ],\n",
       "       [-0.95692675, -0.61433742,  1.74133801, ...,  0.66011376,\n",
       "         0.97628121, -0.41865644],\n",
       "       ...,\n",
       "       [-0.95692675, -0.61433742,  1.74133801, ...,  0.66011376,\n",
       "        -1.02429504,  0.72775202],\n",
       "       [-0.95692675,  1.62776996, -0.57427105, ...,  0.66011376,\n",
       "         0.97628121, -1.54162886],\n",
       "       [-0.95692675,  1.62776996, -0.57427105, ...,  0.66011376,\n",
       "        -1.02429504,  1.62356528]])"
      ]
     },
     "execution_count": 51,
     "metadata": {},
     "output_type": "execute_result"
    }
   ],
   "source": [
    "x_test"
   ]
  },
  {
   "cell_type": "markdown",
   "id": "536a146a",
   "metadata": {},
   "source": [
    "# Building ANN Model"
   ]
  },
  {
   "cell_type": "code",
   "execution_count": 54,
   "id": "3dd9f366",
   "metadata": {},
   "outputs": [],
   "source": [
    "# Defining the Layers of ANN model\n",
    "\n",
    "ann = tf.keras.models.Sequential()\n",
    "\n",
    "# First Hidden Layer\n",
    "\n",
    "ann.add(tf.keras.layers.Dense(units=12, activation='relu'))\n",
    "\n",
    "# Second Hidden layer\n",
    "\n",
    "ann.add(tf.keras.layers.Dense(units=12, activation='relu'))\n",
    "\n",
    "# Third Hidden layes\n",
    "\n",
    "ann.add(tf.keras.layers.Dense(units=12, activation='relu'))\n",
    "\n",
    "# Output Layer\n",
    "\n",
    "ann.add(tf.keras.layers.Dense(units=1, activation='sigmoid'))"
   ]
  },
  {
   "cell_type": "markdown",
   "id": "3aeb01e2",
   "metadata": {},
   "source": [
    "# Compiling the ANN model"
   ]
  },
  {
   "cell_type": "code",
   "execution_count": 55,
   "id": "760da635",
   "metadata": {},
   "outputs": [
    {
     "name": "stdout",
     "output_type": "stream",
     "text": [
      "WARNING:tensorflow:From C:\\Users\\sayanezio\\anaconda3\\lib\\site-packages\\keras\\src\\optimizers\\__init__.py:309: The name tf.train.Optimizer is deprecated. Please use tf.compat.v1.train.Optimizer instead.\n",
      "\n"
     ]
    }
   ],
   "source": [
    "ann.compile(optimizer='adam', loss = 'binary_crossentropy', metrics=['accuracy'])"
   ]
  },
  {
   "cell_type": "markdown",
   "id": "4f5a73ed",
   "metadata": {},
   "source": [
    "# Training The ANN model"
   ]
  },
  {
   "cell_type": "code",
   "execution_count": 56,
   "id": "d78edd86",
   "metadata": {},
   "outputs": [
    {
     "name": "stdout",
     "output_type": "stream",
     "text": [
      "Epoch 1/200\n",
      "WARNING:tensorflow:From C:\\Users\\sayanezio\\anaconda3\\lib\\site-packages\\keras\\src\\utils\\tf_utils.py:492: The name tf.ragged.RaggedTensorValue is deprecated. Please use tf.compat.v1.ragged.RaggedTensorValue instead.\n",
      "\n",
      "WARNING:tensorflow:From C:\\Users\\sayanezio\\anaconda3\\lib\\site-packages\\keras\\src\\engine\\base_layer_utils.py:384: The name tf.executing_eagerly_outside_functions is deprecated. Please use tf.compat.v1.executing_eagerly_outside_functions instead.\n",
      "\n",
      "250/250 [==============================] - 2s 2ms/step - loss: 0.5075 - accuracy: 0.7804\n",
      "Epoch 2/200\n",
      "250/250 [==============================] - 1s 3ms/step - loss: 0.4404 - accuracy: 0.8074\n",
      "Epoch 3/200\n",
      "250/250 [==============================] - 1s 2ms/step - loss: 0.4153 - accuracy: 0.8248\n",
      "Epoch 4/200\n",
      "250/250 [==============================] - 1s 2ms/step - loss: 0.3970 - accuracy: 0.8332\n",
      "Epoch 5/200\n",
      "250/250 [==============================] - 0s 2ms/step - loss: 0.3770 - accuracy: 0.8450\n",
      "Epoch 6/200\n",
      "250/250 [==============================] - 0s 2ms/step - loss: 0.3597 - accuracy: 0.8536\n",
      "Epoch 7/200\n",
      "250/250 [==============================] - 0s 2ms/step - loss: 0.3496 - accuracy: 0.8581\n",
      "Epoch 8/200\n",
      "250/250 [==============================] - 0s 2ms/step - loss: 0.3445 - accuracy: 0.8605\n",
      "Epoch 9/200\n",
      "250/250 [==============================] - 0s 2ms/step - loss: 0.3419 - accuracy: 0.8591\n",
      "Epoch 10/200\n",
      "250/250 [==============================] - 0s 2ms/step - loss: 0.3394 - accuracy: 0.8599\n",
      "Epoch 11/200\n",
      "250/250 [==============================] - 0s 2ms/step - loss: 0.3378 - accuracy: 0.8599\n",
      "Epoch 12/200\n",
      "250/250 [==============================] - 0s 2ms/step - loss: 0.3368 - accuracy: 0.8599\n",
      "Epoch 13/200\n",
      "250/250 [==============================] - 0s 2ms/step - loss: 0.3359 - accuracy: 0.8602\n",
      "Epoch 14/200\n",
      "250/250 [==============================] - 0s 2ms/step - loss: 0.3350 - accuracy: 0.8637\n",
      "Epoch 15/200\n",
      "250/250 [==============================] - 1s 2ms/step - loss: 0.3346 - accuracy: 0.8612\n",
      "Epoch 16/200\n",
      "250/250 [==============================] - 0s 2ms/step - loss: 0.3338 - accuracy: 0.8618\n",
      "Epoch 17/200\n",
      "250/250 [==============================] - 0s 2ms/step - loss: 0.3328 - accuracy: 0.8634\n",
      "Epoch 18/200\n",
      "250/250 [==============================] - 0s 2ms/step - loss: 0.3332 - accuracy: 0.8629\n",
      "Epoch 19/200\n",
      "250/250 [==============================] - 0s 2ms/step - loss: 0.3319 - accuracy: 0.8629\n",
      "Epoch 20/200\n",
      "250/250 [==============================] - 0s 2ms/step - loss: 0.3316 - accuracy: 0.8634\n",
      "Epoch 21/200\n",
      "250/250 [==============================] - 0s 2ms/step - loss: 0.3309 - accuracy: 0.8654\n",
      "Epoch 22/200\n",
      "250/250 [==============================] - 0s 2ms/step - loss: 0.3305 - accuracy: 0.8670\n",
      "Epoch 23/200\n",
      "250/250 [==============================] - 1s 2ms/step - loss: 0.3312 - accuracy: 0.8627\n",
      "Epoch 24/200\n",
      "250/250 [==============================] - 1s 2ms/step - loss: 0.3300 - accuracy: 0.8637\n",
      "Epoch 25/200\n",
      "250/250 [==============================] - 1s 2ms/step - loss: 0.3298 - accuracy: 0.8636\n",
      "Epoch 26/200\n",
      "250/250 [==============================] - 1s 2ms/step - loss: 0.3296 - accuracy: 0.8651\n",
      "Epoch 27/200\n",
      "250/250 [==============================] - 1s 2ms/step - loss: 0.3289 - accuracy: 0.8652\n",
      "Epoch 28/200\n",
      "250/250 [==============================] - 1s 2ms/step - loss: 0.3289 - accuracy: 0.8649\n",
      "Epoch 29/200\n",
      "250/250 [==============================] - 1s 2ms/step - loss: 0.3282 - accuracy: 0.8635\n",
      "Epoch 30/200\n",
      "250/250 [==============================] - 1s 2ms/step - loss: 0.3280 - accuracy: 0.8658\n",
      "Epoch 31/200\n",
      "250/250 [==============================] - 1s 2ms/step - loss: 0.3276 - accuracy: 0.8651\n",
      "Epoch 32/200\n",
      "250/250 [==============================] - 1s 2ms/step - loss: 0.3267 - accuracy: 0.8643\n",
      "Epoch 33/200\n",
      "250/250 [==============================] - 1s 3ms/step - loss: 0.3269 - accuracy: 0.8643\n",
      "Epoch 34/200\n",
      "250/250 [==============================] - 1s 2ms/step - loss: 0.3263 - accuracy: 0.8659\n",
      "Epoch 35/200\n",
      "250/250 [==============================] - 1s 3ms/step - loss: 0.3262 - accuracy: 0.8669\n",
      "Epoch 36/200\n",
      "250/250 [==============================] - 1s 3ms/step - loss: 0.3255 - accuracy: 0.8646\n",
      "Epoch 37/200\n",
      "250/250 [==============================] - 1s 2ms/step - loss: 0.3249 - accuracy: 0.8662\n",
      "Epoch 38/200\n",
      "250/250 [==============================] - 1s 2ms/step - loss: 0.3250 - accuracy: 0.8658\n",
      "Epoch 39/200\n",
      "250/250 [==============================] - 1s 2ms/step - loss: 0.3246 - accuracy: 0.8656\n",
      "Epoch 40/200\n",
      "250/250 [==============================] - 1s 2ms/step - loss: 0.3247 - accuracy: 0.8651\n",
      "Epoch 41/200\n",
      "250/250 [==============================] - 1s 3ms/step - loss: 0.3240 - accuracy: 0.8669\n",
      "Epoch 42/200\n",
      "250/250 [==============================] - 1s 3ms/step - loss: 0.3233 - accuracy: 0.8664\n",
      "Epoch 43/200\n",
      "250/250 [==============================] - 1s 3ms/step - loss: 0.3238 - accuracy: 0.8660\n",
      "Epoch 44/200\n",
      "250/250 [==============================] - 1s 3ms/step - loss: 0.3236 - accuracy: 0.8652\n",
      "Epoch 45/200\n",
      "250/250 [==============================] - 1s 3ms/step - loss: 0.3237 - accuracy: 0.8671\n",
      "Epoch 46/200\n",
      "250/250 [==============================] - 1s 2ms/step - loss: 0.3234 - accuracy: 0.8656\n",
      "Epoch 47/200\n",
      "250/250 [==============================] - 1s 3ms/step - loss: 0.3225 - accuracy: 0.8680\n",
      "Epoch 48/200\n",
      "250/250 [==============================] - 1s 3ms/step - loss: 0.3220 - accuracy: 0.8687\n",
      "Epoch 49/200\n",
      "250/250 [==============================] - 1s 3ms/step - loss: 0.3230 - accuracy: 0.8662\n",
      "Epoch 50/200\n",
      "250/250 [==============================] - 1s 3ms/step - loss: 0.3223 - accuracy: 0.8655\n",
      "Epoch 51/200\n",
      "250/250 [==============================] - 1s 4ms/step - loss: 0.3217 - accuracy: 0.8669\n",
      "Epoch 52/200\n",
      "250/250 [==============================] - 1s 3ms/step - loss: 0.3225 - accuracy: 0.8684\n",
      "Epoch 53/200\n",
      "250/250 [==============================] - 1s 3ms/step - loss: 0.3215 - accuracy: 0.8671\n",
      "Epoch 54/200\n",
      "250/250 [==============================] - 1s 3ms/step - loss: 0.3212 - accuracy: 0.8683\n",
      "Epoch 55/200\n",
      "250/250 [==============================] - 1s 3ms/step - loss: 0.3216 - accuracy: 0.8664\n",
      "Epoch 56/200\n",
      "250/250 [==============================] - 1s 3ms/step - loss: 0.3216 - accuracy: 0.8675\n",
      "Epoch 57/200\n",
      "250/250 [==============================] - 1s 3ms/step - loss: 0.3210 - accuracy: 0.8665\n",
      "Epoch 58/200\n",
      "250/250 [==============================] - 1s 3ms/step - loss: 0.3205 - accuracy: 0.8684\n",
      "Epoch 59/200\n",
      "250/250 [==============================] - 1s 3ms/step - loss: 0.3203 - accuracy: 0.8675\n",
      "Epoch 60/200\n",
      "250/250 [==============================] - 1s 3ms/step - loss: 0.3202 - accuracy: 0.8679\n",
      "Epoch 61/200\n",
      "250/250 [==============================] - 1s 3ms/step - loss: 0.3204 - accuracy: 0.8677\n",
      "Epoch 62/200\n",
      "250/250 [==============================] - 1s 3ms/step - loss: 0.3195 - accuracy: 0.8690\n",
      "Epoch 63/200\n",
      "250/250 [==============================] - 1s 3ms/step - loss: 0.3198 - accuracy: 0.8679\n",
      "Epoch 64/200\n",
      "250/250 [==============================] - 1s 3ms/step - loss: 0.3200 - accuracy: 0.8683\n",
      "Epoch 65/200\n",
      "250/250 [==============================] - 1s 2ms/step - loss: 0.3195 - accuracy: 0.8680\n",
      "Epoch 66/200\n",
      "250/250 [==============================] - 1s 2ms/step - loss: 0.3197 - accuracy: 0.8677\n",
      "Epoch 67/200\n",
      "250/250 [==============================] - 1s 2ms/step - loss: 0.3193 - accuracy: 0.8690\n",
      "Epoch 68/200\n",
      "250/250 [==============================] - 1s 2ms/step - loss: 0.3187 - accuracy: 0.8696\n",
      "Epoch 69/200\n",
      "250/250 [==============================] - 1s 2ms/step - loss: 0.3196 - accuracy: 0.8677\n",
      "Epoch 70/200\n",
      "250/250 [==============================] - 1s 3ms/step - loss: 0.3196 - accuracy: 0.8708\n",
      "Epoch 71/200\n",
      "250/250 [==============================] - 1s 3ms/step - loss: 0.3187 - accuracy: 0.8701\n",
      "Epoch 72/200\n",
      "250/250 [==============================] - 1s 3ms/step - loss: 0.3189 - accuracy: 0.8699\n",
      "Epoch 73/200\n",
      "250/250 [==============================] - 1s 3ms/step - loss: 0.3182 - accuracy: 0.8679\n",
      "Epoch 74/200\n",
      "250/250 [==============================] - 1s 3ms/step - loss: 0.3181 - accuracy: 0.8698\n",
      "Epoch 75/200\n",
      "250/250 [==============================] - 1s 3ms/step - loss: 0.3184 - accuracy: 0.8698\n",
      "Epoch 76/200\n"
     ]
    },
    {
     "name": "stdout",
     "output_type": "stream",
     "text": [
      "250/250 [==============================] - 1s 3ms/step - loss: 0.3175 - accuracy: 0.8676\n",
      "Epoch 77/200\n",
      "250/250 [==============================] - 1s 3ms/step - loss: 0.3172 - accuracy: 0.8696\n",
      "Epoch 78/200\n",
      "250/250 [==============================] - 1s 3ms/step - loss: 0.3178 - accuracy: 0.8670\n",
      "Epoch 79/200\n",
      "250/250 [==============================] - 1s 3ms/step - loss: 0.3171 - accuracy: 0.8694\n",
      "Epoch 80/200\n",
      "250/250 [==============================] - 1s 3ms/step - loss: 0.3171 - accuracy: 0.8692\n",
      "Epoch 81/200\n",
      "250/250 [==============================] - 1s 3ms/step - loss: 0.3172 - accuracy: 0.8712\n",
      "Epoch 82/200\n",
      "250/250 [==============================] - 1s 3ms/step - loss: 0.3167 - accuracy: 0.8715\n",
      "Epoch 83/200\n",
      "250/250 [==============================] - 1s 3ms/step - loss: 0.3168 - accuracy: 0.8706\n",
      "Epoch 84/200\n",
      "250/250 [==============================] - 1s 3ms/step - loss: 0.3164 - accuracy: 0.8702\n",
      "Epoch 85/200\n",
      "250/250 [==============================] - 1s 3ms/step - loss: 0.3160 - accuracy: 0.8699\n",
      "Epoch 86/200\n",
      "250/250 [==============================] - 1s 3ms/step - loss: 0.3159 - accuracy: 0.8712\n",
      "Epoch 87/200\n",
      "250/250 [==============================] - 1s 3ms/step - loss: 0.3157 - accuracy: 0.8675\n",
      "Epoch 88/200\n",
      "250/250 [==============================] - 1s 3ms/step - loss: 0.3161 - accuracy: 0.8696\n",
      "Epoch 89/200\n",
      "250/250 [==============================] - 1s 3ms/step - loss: 0.3161 - accuracy: 0.8694\n",
      "Epoch 90/200\n",
      "250/250 [==============================] - 1s 3ms/step - loss: 0.3155 - accuracy: 0.8694\n",
      "Epoch 91/200\n",
      "250/250 [==============================] - 1s 3ms/step - loss: 0.3148 - accuracy: 0.8696\n",
      "Epoch 92/200\n",
      "250/250 [==============================] - 1s 2ms/step - loss: 0.3152 - accuracy: 0.8705\n",
      "Epoch 93/200\n",
      "250/250 [==============================] - 1s 2ms/step - loss: 0.3160 - accuracy: 0.8699\n",
      "Epoch 94/200\n",
      "250/250 [==============================] - 1s 2ms/step - loss: 0.3147 - accuracy: 0.8694\n",
      "Epoch 95/200\n",
      "250/250 [==============================] - 1s 2ms/step - loss: 0.3144 - accuracy: 0.8702\n",
      "Epoch 96/200\n",
      "250/250 [==============================] - 1s 3ms/step - loss: 0.3147 - accuracy: 0.8716\n",
      "Epoch 97/200\n",
      "250/250 [==============================] - 1s 2ms/step - loss: 0.3145 - accuracy: 0.8716\n",
      "Epoch 98/200\n",
      "250/250 [==============================] - 1s 3ms/step - loss: 0.3144 - accuracy: 0.8716\n",
      "Epoch 99/200\n",
      "250/250 [==============================] - 1s 3ms/step - loss: 0.3140 - accuracy: 0.8714\n",
      "Epoch 100/200\n",
      "250/250 [==============================] - 1s 3ms/step - loss: 0.3140 - accuracy: 0.8704\n",
      "Epoch 101/200\n",
      "250/250 [==============================] - 1s 3ms/step - loss: 0.3142 - accuracy: 0.8734\n",
      "Epoch 102/200\n",
      "250/250 [==============================] - 1s 3ms/step - loss: 0.3136 - accuracy: 0.8705\n",
      "Epoch 103/200\n",
      "250/250 [==============================] - 1s 3ms/step - loss: 0.3146 - accuracy: 0.8720\n",
      "Epoch 104/200\n",
      "250/250 [==============================] - 1s 3ms/step - loss: 0.3146 - accuracy: 0.8687\n",
      "Epoch 105/200\n",
      "250/250 [==============================] - 1s 3ms/step - loss: 0.3140 - accuracy: 0.8708\n",
      "Epoch 106/200\n",
      "250/250 [==============================] - 1s 3ms/step - loss: 0.3144 - accuracy: 0.8700\n",
      "Epoch 107/200\n",
      "250/250 [==============================] - 1s 3ms/step - loss: 0.3137 - accuracy: 0.8717\n",
      "Epoch 108/200\n",
      "250/250 [==============================] - 1s 3ms/step - loss: 0.3128 - accuracy: 0.8723\n",
      "Epoch 109/200\n",
      "250/250 [==============================] - 1s 2ms/step - loss: 0.3131 - accuracy: 0.8709\n",
      "Epoch 110/200\n",
      "250/250 [==============================] - 1s 2ms/step - loss: 0.3130 - accuracy: 0.8720\n",
      "Epoch 111/200\n",
      "250/250 [==============================] - 1s 2ms/step - loss: 0.3138 - accuracy: 0.8709\n",
      "Epoch 112/200\n",
      "250/250 [==============================] - 1s 2ms/step - loss: 0.3125 - accuracy: 0.8709\n",
      "Epoch 113/200\n",
      "250/250 [==============================] - 1s 2ms/step - loss: 0.3119 - accuracy: 0.8711\n",
      "Epoch 114/200\n",
      "250/250 [==============================] - 1s 2ms/step - loss: 0.3132 - accuracy: 0.8696\n",
      "Epoch 115/200\n",
      "250/250 [==============================] - 1s 2ms/step - loss: 0.3130 - accuracy: 0.8702\n",
      "Epoch 116/200\n",
      "250/250 [==============================] - 1s 2ms/step - loss: 0.3128 - accuracy: 0.8715\n",
      "Epoch 117/200\n",
      "250/250 [==============================] - 1s 2ms/step - loss: 0.3126 - accuracy: 0.8710\n",
      "Epoch 118/200\n",
      "250/250 [==============================] - 1s 3ms/step - loss: 0.3123 - accuracy: 0.8704\n",
      "Epoch 119/200\n",
      "250/250 [==============================] - 1s 3ms/step - loss: 0.3125 - accuracy: 0.8712\n",
      "Epoch 120/200\n",
      "250/250 [==============================] - 1s 3ms/step - loss: 0.3119 - accuracy: 0.8704\n",
      "Epoch 121/200\n",
      "250/250 [==============================] - 1s 3ms/step - loss: 0.3119 - accuracy: 0.8720\n",
      "Epoch 122/200\n",
      "250/250 [==============================] - 1s 3ms/step - loss: 0.3118 - accuracy: 0.8715\n",
      "Epoch 123/200\n",
      "250/250 [==============================] - 1s 3ms/step - loss: 0.3116 - accuracy: 0.8701\n",
      "Epoch 124/200\n",
      "250/250 [==============================] - 1s 3ms/step - loss: 0.3114 - accuracy: 0.8733\n",
      "Epoch 125/200\n",
      "250/250 [==============================] - 1s 3ms/step - loss: 0.3106 - accuracy: 0.8733\n",
      "Epoch 126/200\n",
      "250/250 [==============================] - 1s 3ms/step - loss: 0.3120 - accuracy: 0.8710\n",
      "Epoch 127/200\n",
      "250/250 [==============================] - 1s 3ms/step - loss: 0.3116 - accuracy: 0.8710\n",
      "Epoch 128/200\n",
      "250/250 [==============================] - 1s 3ms/step - loss: 0.3116 - accuracy: 0.8714\n",
      "Epoch 129/200\n",
      "250/250 [==============================] - 1s 3ms/step - loss: 0.3116 - accuracy: 0.8719\n",
      "Epoch 130/200\n",
      "250/250 [==============================] - 1s 3ms/step - loss: 0.3123 - accuracy: 0.8696\n",
      "Epoch 131/200\n",
      "250/250 [==============================] - 1s 3ms/step - loss: 0.3114 - accuracy: 0.8717\n",
      "Epoch 132/200\n",
      "250/250 [==============================] - 1s 3ms/step - loss: 0.3108 - accuracy: 0.8726\n",
      "Epoch 133/200\n",
      "250/250 [==============================] - 1s 2ms/step - loss: 0.3105 - accuracy: 0.8705\n",
      "Epoch 134/200\n",
      "250/250 [==============================] - 1s 2ms/step - loss: 0.3108 - accuracy: 0.8726\n",
      "Epoch 135/200\n",
      "250/250 [==============================] - 1s 2ms/step - loss: 0.3113 - accuracy: 0.8727\n",
      "Epoch 136/200\n",
      "250/250 [==============================] - 1s 2ms/step - loss: 0.3107 - accuracy: 0.8716\n",
      "Epoch 137/200\n",
      "250/250 [==============================] - 1s 2ms/step - loss: 0.3094 - accuracy: 0.8717\n",
      "Epoch 138/200\n",
      "250/250 [==============================] - 1s 2ms/step - loss: 0.3097 - accuracy: 0.8712\n",
      "Epoch 139/200\n",
      "250/250 [==============================] - 1s 3ms/step - loss: 0.3107 - accuracy: 0.8723\n",
      "Epoch 140/200\n",
      "250/250 [==============================] - 1s 2ms/step - loss: 0.3101 - accuracy: 0.8720\n",
      "Epoch 141/200\n",
      "250/250 [==============================] - 1s 2ms/step - loss: 0.3100 - accuracy: 0.8712\n",
      "Epoch 142/200\n",
      "250/250 [==============================] - 1s 3ms/step - loss: 0.3100 - accuracy: 0.8706\n",
      "Epoch 143/200\n",
      "250/250 [==============================] - 1s 3ms/step - loss: 0.3105 - accuracy: 0.8704\n",
      "Epoch 144/200\n",
      "250/250 [==============================] - 1s 3ms/step - loss: 0.3100 - accuracy: 0.8691\n",
      "Epoch 145/200\n",
      "250/250 [==============================] - 1s 3ms/step - loss: 0.3094 - accuracy: 0.8706\n",
      "Epoch 146/200\n",
      "250/250 [==============================] - 1s 3ms/step - loss: 0.3097 - accuracy: 0.8727\n",
      "Epoch 147/200\n",
      "250/250 [==============================] - 1s 3ms/step - loss: 0.3097 - accuracy: 0.8717\n",
      "Epoch 148/200\n",
      "250/250 [==============================] - 1s 3ms/step - loss: 0.3093 - accuracy: 0.8727\n",
      "Epoch 149/200\n",
      "250/250 [==============================] - 1s 3ms/step - loss: 0.3089 - accuracy: 0.8723\n",
      "Epoch 150/200\n",
      "250/250 [==============================] - 1s 3ms/step - loss: 0.3092 - accuracy: 0.8720\n",
      "Epoch 151/200\n",
      "250/250 [==============================] - 1s 3ms/step - loss: 0.3090 - accuracy: 0.8720\n",
      "Epoch 152/200\n",
      "250/250 [==============================] - 1s 3ms/step - loss: 0.3104 - accuracy: 0.8708\n",
      "Epoch 153/200\n",
      "250/250 [==============================] - 1s 3ms/step - loss: 0.3095 - accuracy: 0.8720\n",
      "Epoch 154/200\n",
      "250/250 [==============================] - 1s 3ms/step - loss: 0.3095 - accuracy: 0.8734\n",
      "Epoch 155/200\n"
     ]
    },
    {
     "name": "stdout",
     "output_type": "stream",
     "text": [
      "250/250 [==============================] - 1s 2ms/step - loss: 0.3082 - accuracy: 0.8723\n",
      "Epoch 156/200\n",
      "250/250 [==============================] - 1s 2ms/step - loss: 0.3090 - accuracy: 0.8729\n",
      "Epoch 157/200\n",
      "250/250 [==============================] - 1s 2ms/step - loss: 0.3080 - accuracy: 0.8736\n",
      "Epoch 158/200\n",
      "250/250 [==============================] - 1s 2ms/step - loss: 0.3091 - accuracy: 0.8721\n",
      "Epoch 159/200\n",
      "250/250 [==============================] - 1s 2ms/step - loss: 0.3089 - accuracy: 0.8721\n",
      "Epoch 160/200\n",
      "250/250 [==============================] - 1s 2ms/step - loss: 0.3082 - accuracy: 0.8720\n",
      "Epoch 161/200\n",
      "250/250 [==============================] - 1s 3ms/step - loss: 0.3084 - accuracy: 0.8729\n",
      "Epoch 162/200\n",
      "250/250 [==============================] - 1s 3ms/step - loss: 0.3086 - accuracy: 0.8724\n",
      "Epoch 163/200\n",
      "250/250 [==============================] - 1s 3ms/step - loss: 0.3078 - accuracy: 0.8752\n",
      "Epoch 164/200\n",
      "250/250 [==============================] - 1s 3ms/step - loss: 0.3079 - accuracy: 0.8730\n",
      "Epoch 165/200\n",
      "250/250 [==============================] - 1s 3ms/step - loss: 0.3083 - accuracy: 0.8726\n",
      "Epoch 166/200\n",
      "250/250 [==============================] - 1s 3ms/step - loss: 0.3082 - accuracy: 0.8727\n",
      "Epoch 167/200\n",
      "250/250 [==============================] - 1s 3ms/step - loss: 0.3078 - accuracy: 0.8734\n",
      "Epoch 168/200\n",
      "250/250 [==============================] - 1s 3ms/step - loss: 0.3079 - accuracy: 0.8714\n",
      "Epoch 169/200\n",
      "250/250 [==============================] - 1s 3ms/step - loss: 0.3074 - accuracy: 0.8712\n",
      "Epoch 170/200\n",
      "250/250 [==============================] - 1s 3ms/step - loss: 0.3075 - accuracy: 0.8744\n",
      "Epoch 171/200\n",
      "250/250 [==============================] - 1s 3ms/step - loss: 0.3080 - accuracy: 0.8736\n",
      "Epoch 172/200\n",
      "250/250 [==============================] - 1s 3ms/step - loss: 0.3074 - accuracy: 0.8715\n",
      "Epoch 173/200\n",
      "250/250 [==============================] - 1s 3ms/step - loss: 0.3073 - accuracy: 0.8720\n",
      "Epoch 174/200\n",
      "250/250 [==============================] - 1s 3ms/step - loss: 0.3063 - accuracy: 0.8727\n",
      "Epoch 175/200\n",
      "250/250 [==============================] - 1s 3ms/step - loss: 0.3081 - accuracy: 0.8702\n",
      "Epoch 176/200\n",
      "250/250 [==============================] - 1s 3ms/step - loss: 0.3069 - accuracy: 0.8712\n",
      "Epoch 177/200\n",
      "250/250 [==============================] - 1s 3ms/step - loss: 0.3069 - accuracy: 0.8731\n",
      "Epoch 178/200\n",
      "250/250 [==============================] - 1s 2ms/step - loss: 0.3057 - accuracy: 0.8742\n",
      "Epoch 179/200\n",
      "250/250 [==============================] - 1s 2ms/step - loss: 0.3067 - accuracy: 0.8724\n",
      "Epoch 180/200\n",
      "250/250 [==============================] - 1s 2ms/step - loss: 0.3070 - accuracy: 0.8714\n",
      "Epoch 181/200\n",
      "250/250 [==============================] - 1s 2ms/step - loss: 0.3068 - accuracy: 0.8734\n",
      "Epoch 182/200\n",
      "250/250 [==============================] - 1s 3ms/step - loss: 0.3077 - accuracy: 0.8730\n",
      "Epoch 183/200\n",
      "250/250 [==============================] - 1s 2ms/step - loss: 0.3057 - accuracy: 0.8739\n",
      "Epoch 184/200\n",
      "250/250 [==============================] - 1s 2ms/step - loss: 0.3057 - accuracy: 0.8727\n",
      "Epoch 185/200\n",
      "250/250 [==============================] - 1s 2ms/step - loss: 0.3061 - accuracy: 0.8726\n",
      "Epoch 186/200\n",
      "250/250 [==============================] - 1s 2ms/step - loss: 0.3063 - accuracy: 0.8755\n",
      "Epoch 187/200\n",
      "250/250 [==============================] - 1s 2ms/step - loss: 0.3064 - accuracy: 0.8735\n",
      "Epoch 188/200\n",
      "250/250 [==============================] - 1s 3ms/step - loss: 0.3062 - accuracy: 0.8741\n",
      "Epoch 189/200\n",
      "250/250 [==============================] - 1s 3ms/step - loss: 0.3061 - accuracy: 0.8739\n",
      "Epoch 190/200\n",
      "250/250 [==============================] - 1s 3ms/step - loss: 0.3056 - accuracy: 0.8721\n",
      "Epoch 191/200\n",
      "250/250 [==============================] - 1s 3ms/step - loss: 0.3062 - accuracy: 0.8751\n",
      "Epoch 192/200\n",
      "250/250 [==============================] - 1s 3ms/step - loss: 0.3046 - accuracy: 0.8735\n",
      "Epoch 193/200\n",
      "250/250 [==============================] - 1s 3ms/step - loss: 0.3053 - accuracy: 0.8736\n",
      "Epoch 194/200\n",
      "250/250 [==============================] - 1s 3ms/step - loss: 0.3052 - accuracy: 0.8735\n",
      "Epoch 195/200\n",
      "250/250 [==============================] - 1s 3ms/step - loss: 0.3054 - accuracy: 0.8749\n",
      "Epoch 196/200\n",
      "250/250 [==============================] - 1s 3ms/step - loss: 0.3050 - accuracy: 0.8737\n",
      "Epoch 197/200\n",
      "250/250 [==============================] - 1s 3ms/step - loss: 0.3054 - accuracy: 0.8748\n",
      "Epoch 198/200\n",
      "250/250 [==============================] - 1s 3ms/step - loss: 0.3051 - accuracy: 0.8730\n",
      "Epoch 199/200\n",
      "250/250 [==============================] - 1s 3ms/step - loss: 0.3051 - accuracy: 0.8735\n",
      "Epoch 200/200\n",
      "250/250 [==============================] - 1s 3ms/step - loss: 0.3048 - accuracy: 0.8729\n"
     ]
    },
    {
     "data": {
      "text/plain": [
       "<keras.src.callbacks.History at 0x19117d2edc0>"
      ]
     },
     "execution_count": 56,
     "metadata": {},
     "output_type": "execute_result"
    }
   ],
   "source": [
    "ann.fit(x_train, y_train, batch_size=32, epochs=200)"
   ]
  },
  {
   "cell_type": "markdown",
   "id": "73662a9f",
   "metadata": {},
   "source": [
    "# Prediction and Result"
   ]
  },
  {
   "cell_type": "code",
   "execution_count": 57,
   "id": "d79a75f4",
   "metadata": {},
   "outputs": [
    {
     "name": "stdout",
     "output_type": "stream",
     "text": [
      "63/63 [==============================] - 0s 1ms/step\n"
     ]
    },
    {
     "data": {
      "text/plain": [
       "array([[0.07273766],\n",
       "       [0.2083141 ],\n",
       "       [0.09442868],\n",
       "       ...,\n",
       "       [0.13619387],\n",
       "       [0.17356896],\n",
       "       [0.20489314]], dtype=float32)"
      ]
     },
     "execution_count": 57,
     "metadata": {},
     "output_type": "execute_result"
    }
   ],
   "source": [
    "ann.predict(x_test)"
   ]
  },
  {
   "cell_type": "code",
   "execution_count": 58,
   "id": "90a02f85",
   "metadata": {},
   "outputs": [
    {
     "name": "stdout",
     "output_type": "stream",
     "text": [
      "63/63 [==============================] - 0s 2ms/step\n"
     ]
    }
   ],
   "source": [
    "y_pred = ann.predict(x_test)"
   ]
  },
  {
   "cell_type": "code",
   "execution_count": 59,
   "id": "6cc86408",
   "metadata": {},
   "outputs": [],
   "source": [
    "y_pred = (y_pred > 0.5)"
   ]
  },
  {
   "cell_type": "code",
   "execution_count": 60,
   "id": "79b6aabf",
   "metadata": {},
   "outputs": [
    {
     "data": {
      "text/plain": [
       "array([[False],\n",
       "       [False],\n",
       "       [False],\n",
       "       ...,\n",
       "       [False],\n",
       "       [False],\n",
       "       [False]])"
      ]
     },
     "execution_count": 60,
     "metadata": {},
     "output_type": "execute_result"
    }
   ],
   "source": [
    "y_pred"
   ]
  },
  {
   "cell_type": "code",
   "execution_count": 64,
   "id": "8ba0d90a",
   "metadata": {},
   "outputs": [],
   "source": [
    "from sklearn.metrics import confusion_matrix, accuracy_score, classification_report"
   ]
  },
  {
   "cell_type": "code",
   "execution_count": 62,
   "id": "cb71821b",
   "metadata": {},
   "outputs": [
    {
     "name": "stdout",
     "output_type": "stream",
     "text": [
      "0.853\n"
     ]
    }
   ],
   "source": [
    "print(accuracy_score(y_test,y_pred))"
   ]
  },
  {
   "cell_type": "code",
   "execution_count": 63,
   "id": "e5e9c92d",
   "metadata": {},
   "outputs": [
    {
     "name": "stdout",
     "output_type": "stream",
     "text": [
      "[[1522   73]\n",
      " [ 221  184]]\n"
     ]
    }
   ],
   "source": [
    "print(confusion_matrix(y_test,y_pred))"
   ]
  },
  {
   "cell_type": "code",
   "execution_count": 65,
   "id": "d98d03a5",
   "metadata": {},
   "outputs": [
    {
     "name": "stdout",
     "output_type": "stream",
     "text": [
      "              precision    recall  f1-score   support\n",
      "\n",
      "           0       0.87      0.95      0.91      1595\n",
      "           1       0.72      0.45      0.56       405\n",
      "\n",
      "    accuracy                           0.85      2000\n",
      "   macro avg       0.79      0.70      0.73      2000\n",
      "weighted avg       0.84      0.85      0.84      2000\n",
      "\n"
     ]
    }
   ],
   "source": [
    "print(classification_report(y_test,y_pred))"
   ]
  },
  {
   "cell_type": "code",
   "execution_count": null,
   "id": "95c68e5e",
   "metadata": {},
   "outputs": [],
   "source": []
  }
 ],
 "metadata": {
  "kernelspec": {
   "display_name": "Python 3 (ipykernel)",
   "language": "python",
   "name": "python3"
  },
  "language_info": {
   "codemirror_mode": {
    "name": "ipython",
    "version": 3
   },
   "file_extension": ".py",
   "mimetype": "text/x-python",
   "name": "python",
   "nbconvert_exporter": "python",
   "pygments_lexer": "ipython3",
   "version": "3.9.12"
  }
 },
 "nbformat": 4,
 "nbformat_minor": 5
}
